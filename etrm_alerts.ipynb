{
 "cells": [
  {
   "cell_type": "code",
   "execution_count": 0,
   "metadata": {
    "application/vnd.databricks.v1+cell": {
     "cellMetadata": {
      "byteLimit": 2048000,
      "rowLimit": 10000
     },
     "inputWidgets": {},
     "nuid": "2af6b2ac-2797-4c57-a1c2-6ebe84fe2482",
     "showTitle": false,
     "tableResultSettingsMap": {},
     "title": ""
    }
   },
   "outputs": [],
   "source": [
    "from pyspark.sql import SparkSession\n",
    "from pyspark.sql.functions import col\n",
    "import pandas as pd\n",
    "import smtplib\n",
    "from email.mime.text import MIMEText\n",
    "\n",
    "spark = SparkSession.builder.getOrCreate()"
   ]
  },
  {
   "cell_type": "code",
   "execution_count": 0,
   "metadata": {
    "application/vnd.databricks.v1+cell": {
     "cellMetadata": {
      "byteLimit": 2048000,
      "rowLimit": 10000
     },
     "inputWidgets": {},
     "nuid": "853364e5-41c3-412a-b791-c6ead7845a61",
     "showTitle": false,
     "tableResultSettingsMap": {},
     "title": ""
    }
   },
   "outputs": [],
   "source": [
    "# Load latest data from Delta table\n",
    "energy_df = spark.table(\"energy_summary_table\")\n",
    "\n",
    "display(energy_df)"
   ]
  },
  {
   "cell_type": "code",
   "execution_count": 0,
   "metadata": {
    "application/vnd.databricks.v1+cell": {
     "cellMetadata": {
      "byteLimit": 2048000,
      "rowLimit": 10000
     },
     "inputWidgets": {},
     "nuid": "ebc5bb1b-6c34-4a8a-916a-874816df3c2a",
     "showTitle": false,
     "tableResultSettingsMap": {},
     "title": ""
    }
   },
   "outputs": [],
   "source": [
    "from pyspark.sql.functions import when, col\n",
    "\n",
    "energy_df_test = energy_df.withColumn(\n",
    "    \"Avg_Price_USD_MWh\",\n",
    "    when(col(\"Energy_Type\") == \"Solar\", 1200.0).otherwise(col(\"Avg_Price_USD_MWh\"))\n",
    ")\n",
    "\n",
    "display(energy_df_test)"
   ]
  },
  {
   "cell_type": "code",
   "execution_count": 0,
   "metadata": {
    "application/vnd.databricks.v1+cell": {
     "cellMetadata": {
      "byteLimit": 2048000,
      "rowLimit": 10000
     },
     "inputWidgets": {},
     "nuid": "a12a213d-eec5-46d0-b13c-d58d7241afec",
     "showTitle": false,
     "tableResultSettingsMap": {},
     "title": ""
    }
   },
   "outputs": [],
   "source": [
    "energy_pdf = energy_df_test.toPandas()\n",
    "energy_pdf.head()"
   ]
  },
  {
   "cell_type": "code",
   "execution_count": 0,
   "metadata": {
    "application/vnd.databricks.v1+cell": {
     "cellMetadata": {
      "byteLimit": 2048000,
      "rowLimit": 10000
     },
     "inputWidgets": {},
     "nuid": "0038130d-4d70-428f-83e6-33f2fface89d",
     "showTitle": false,
     "tableResultSettingsMap": {},
     "title": ""
    }
   },
   "outputs": [],
   "source": [
    "upper_limit = 100\n",
    "lower_limit = 10\n",
    "\n",
    "abnormal = energy_pdf[\n",
    "    (energy_pdf['Avg_Price_USD_MWh'] > upper_limit) |\n",
    "    (energy_pdf['Avg_Price_USD_MWh'] < lower_limit)\n",
    "]\n",
    "\n",
    "abnormal"
   ]
  },
  {
   "cell_type": "code",
   "execution_count": 0,
   "metadata": {
    "application/vnd.databricks.v1+cell": {
     "cellMetadata": {
      "byteLimit": 2048000,
      "rowLimit": 10000
     },
     "inputWidgets": {},
     "nuid": "24755263-709d-40d8-baae-f1eaa63e6ebd",
     "showTitle": false,
     "tableResultSettingsMap": {},
     "title": ""
    }
   },
   "outputs": [],
   "source": [
    "# Prepare alert message if abnormal prices exist\n",
    "if not abnormal.empty:\n",
    "    alert_message = f\"\"\"\n",
    "     ALERT: Abnormal Energy Prices Detected\n",
    "\n",
    "    The following energy types have prices outside the normal range:\n",
    "\n",
    "    {abnormal.to_string(index=False)}\n",
    "\n",
    "    Please review these entries in the ETRM dashboard.\n",
    "    \"\"\"\n",
    "else:\n",
    "    alert_message = \"✅ All prices are within the normal range.\"\n",
    "\n",
    "print(alert_message)"
   ]
  },
  {
   "cell_type": "code",
   "execution_count": 0,
   "metadata": {
    "application/vnd.databricks.v1+cell": {
     "cellMetadata": {
      "byteLimit": 2048000,
      "rowLimit": 10000
     },
     "inputWidgets": {},
     "nuid": "d5262af3-c1cd-4153-a96e-ac3e0508300f",
     "showTitle": false,
     "tableResultSettingsMap": {},
     "title": ""
    }
   },
   "outputs": [],
   "source": [
    "if not abnormal.empty:\n",
    "    alert_entries = []\n",
    "    for _, row in abnormal.iterrows():\n",
    "        alert_entries.append((\n",
    "            datetime.now().strftime(\"%Y-%m-%d %H:%M:%S\"),\n",
    "            f\"High revenue alert for {row['Energy_Type']}: ${row['Total_Revenue_USD']:.2f}\",\n",
    "            row['Energy_Type'],\n",
    "            float(row['Total_Revenue_USD'])\n",
    "        ))\n",
    "\n",
    "    alert_df = spark.createDataFrame(alert_entries,\n",
    "        [\"timestamp\", \"alert_message\", \"energy_type\", \"total_revenue_usd\"])\n",
    "\n",
    "    alert_df.write.mode(\"append\").format(\"delta\").saveAsTable(\"etrm_alert_logs\")"
   ]
  },
  {
   "cell_type": "code",
   "execution_count": 0,
   "metadata": {
    "application/vnd.databricks.v1+cell": {
     "cellMetadata": {
      "byteLimit": 2048000,
      "rowLimit": 10000
     },
     "inputWidgets": {},
     "nuid": "8bc8123f-5d27-4c2c-90dc-3f468aedf57b",
     "showTitle": false,
     "tableResultSettingsMap": {},
     "title": ""
    }
   },
   "outputs": [],
   "source": [
    "import smtplib\n",
    "from email.message import EmailMessage\n",
    "\n",
    "# Sender and receiver details\n",
    "sender_email = \"pritisahani4444@gmail.com\"\n",
    "receiver_email = \"preetusahani30@gmail.com\"\n",
    "app_password = \"eypz bzlt nsxp wpgr\"  \n",
    "\n",
    "# Create the email\n",
    "msg = EmailMessage()\n",
    "msg[\"Subject\"] = \"⚠️ ETRM Alert: Abnormal Energy Prices Detected\"\n",
    "msg[\"From\"] = sender_email\n",
    "msg[\"To\"] = receiver_email\n",
    "msg.set_content(alert_message)\n",
    "\n",
    "# Send via Gmail SMTP\n",
    "try:\n",
    "    with smtplib.SMTP_SSL(\"smtp.gmail.com\", 465) as smtp:\n",
    "        smtp.login(sender_email, app_password)\n",
    "        smtp.send_message(msg)\n",
    "    print(\"Alert email sent successfully!\")\n",
    "except Exception as e:\n",
    "    print(\"Error sending email:\", e)\n"
   ]
  },
  {
   "cell_type": "code",
   "execution_count": 0,
   "metadata": {
    "application/vnd.databricks.v1+cell": {
     "cellMetadata": {
      "byteLimit": 2048000,
      "rowLimit": 10000
     },
     "inputWidgets": {},
     "nuid": "6e5d8581-39bb-4e6a-a4b0-19c7364f9032",
     "showTitle": false,
     "tableResultSettingsMap": {},
     "title": ""
    }
   },
   "outputs": [],
   "source": [
    "# Check if alert logs table exists, else create\n",
    "spark.sql(\"\"\"\n",
    "CREATE TABLE IF NOT EXISTS etrm_alert_logs (\n",
    "    timestamp STRING,\n",
    "    alert_message STRING,\n",
    "    energy_type STRING,\n",
    "    total_revenue_usd DOUBLE\n",
    ") USING DELTA\n",
    "\"\"\")"
   ]
  },
  {
   "cell_type": "code",
   "execution_count": 0,
   "metadata": {
    "application/vnd.databricks.v1+cell": {
     "cellMetadata": {
      "byteLimit": 2048000,
      "rowLimit": 10000
     },
     "inputWidgets": {},
     "nuid": "653724bd-6ccc-4d2c-80c9-9d7b4fcbe60c",
     "showTitle": false,
     "tableResultSettingsMap": {},
     "title": ""
    }
   },
   "outputs": [],
   "source": [
    "display(spark.table(\"etrm_alert_logs\").orderBy(\"timestamp\", ascending=False))"
   ]
  },
  {
   "cell_type": "code",
   "execution_count": 0,
   "metadata": {
    "application/vnd.databricks.v1+cell": {
     "cellMetadata": {},
     "inputWidgets": {},
     "nuid": "3304f6f4-1a80-4248-9aa0-7b1fc5ed2705",
     "showTitle": false,
     "tableResultSettingsMap": {},
     "title": ""
    }
   },
   "outputs": [],
   "source": []
  }
 ],
 "metadata": {
  "application/vnd.databricks.v1+notebook": {
   "computePreferences": null,
   "dashboards": [],
   "environmentMetadata": {
    "base_environment": "",
    "environment_version": "4"
   },
   "inputWidgetPreferences": null,
   "language": "python",
   "notebookMetadata": {
    "pythonIndentUnit": 4
   },
   "notebookName": "etrm_alerts",
   "widgets": {}
  },
  "language_info": {
   "name": "python"
  }
 },
 "nbformat": 4,
 "nbformat_minor": 0
}
