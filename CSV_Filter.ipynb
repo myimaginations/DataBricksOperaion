{
 "cells": [
  {
   "cell_type": "code",
   "execution_count": 0,
   "metadata": {
    "application/vnd.databricks.v1+cell": {
     "cellMetadata": {
      "byteLimit": 2048000,
      "rowLimit": 10000
     },
     "inputWidgets": {},
     "nuid": "228d7657-4f64-4fac-adf2-bbc4628dccf1",
     "showTitle": false,
     "tableResultSettingsMap": {},
     "title": ""
    }
   },
   "outputs": [],
   "source": [
    "files =[f.name for f in  dbutils.fs.ls('/Volumes/workspace/default/databrics_data/')]\n",
    "print(files)"
   ]
  },
  {
   "cell_type": "code",
   "execution_count": 0,
   "metadata": {
    "application/vnd.databricks.v1+cell": {
     "cellMetadata": {
      "byteLimit": 2048000,
      "rowLimit": 10000
     },
     "inputWidgets": {},
     "nuid": "c60fa0b7-3966-479c-b9c2-67a2347569b7",
     "showTitle": false,
     "tableResultSettingsMap": {},
     "title": ""
    }
   },
   "outputs": [],
   "source": [
    "%pip install fastavro\n"
   ]
  },
  {
   "cell_type": "code",
   "execution_count": 0,
   "metadata": {
    "application/vnd.databricks.v1+cell": {
     "cellMetadata": {
      "byteLimit": 2048000,
      "rowLimit": 10000
     },
     "inputWidgets": {},
     "nuid": "77724510-4c54-426d-b518-5191bbd4404d",
     "showTitle": false,
     "tableResultSettingsMap": {},
     "title": ""
    }
   },
   "outputs": [],
   "source": [
    "import os\n",
    "import pandas as pd\n",
    "import pyarrow as pa\n",
    "import pyarrow.parquet as pq\n",
    "import pyarrow.orc as orc\n",
    "import xml.etree.ElementTree as ET\n",
    "\n",
    "# Use Databricks Community-safe path\n",
    "base_path = \"/databricks/driver/databrics_data/\"\n",
    "os.makedirs(base_path, exist_ok=True)\n",
    "\n",
    "# Sample data\n",
    "data = {\n",
    "    \"id\": [1, 2, 3],\n",
    "    \"name\": [\"Preeti\", \"Karthik\", \"Aarav\"],\n",
    "    \"department\": [\"IT\", \"Finance\", \"HR\"],\n",
    "    \"salary\": [70000, 65000, 60000]\n",
    "}\n",
    "\n",
    "df = pd.DataFrame(data)\n",
    "\n",
    "# CSV\n",
    "df.to_csv(os.path.join(base_path, \"employees.csv\"), index=False)\n",
    "\n",
    "# JSON\n",
    "df.to_json(os.path.join(base_path, \"employees.json\"), orient=\"records\", lines=True)\n",
    "\n",
    "# Excel\n",
    "df.to_excel(os.path.join(base_path, \"employees.xlsx\"), index=False)\n",
    "\n",
    "# Parquet\n",
    "pq.write_table(pa.Table.from_pandas(df), os.path.join(base_path, \"employees.parquet\"))\n",
    "\n",
    "# ORC\n",
    "orc.write_table(pa.Table.from_pandas(df), os.path.join(base_path, \"employees.orc\"))\n",
    "\n",
    "# XML\n",
    "root = ET.Element(\"employees\")\n",
    "for _, row in df.iterrows():\n",
    "    emp = ET.SubElement(root, \"employee\")\n",
    "    for col, val in row.items():\n",
    "        ET.SubElement(emp, col).text = str(val)\n",
    "ET.ElementTree(root).write(os.path.join(base_path, \"employees.xml\"))\n",
    "\n",
    "# TXT\n",
    "with open(os.path.join(base_path, \"notes.txt\"), \"w\") as f:\n",
    "    f.write(\"This is a dummy plain text file for Databricks demo.\\n\")\n",
    "\n",
    "print(\"✅ Dummy files created successfully at:\", base_path)\n"
   ]
  },
  {
   "cell_type": "code",
   "execution_count": 0,
   "metadata": {
    "application/vnd.databricks.v1+cell": {
     "cellMetadata": {},
     "inputWidgets": {},
     "nuid": "35447d9b-c099-4810-b93b-15585572e43b",
     "showTitle": false,
     "tableResultSettingsMap": {},
     "title": ""
    }
   },
   "outputs": [],
   "source": []
  }
 ],
 "metadata": {
  "application/vnd.databricks.v1+notebook": {
   "computePreferences": null,
   "dashboards": [],
   "environmentMetadata": {
    "base_environment": "",
    "environment_version": "4"
   },
   "inputWidgetPreferences": null,
   "language": "python",
   "notebookMetadata": {
    "mostRecentlyExecutedCommandWithImplicitDF": {
     "commandId": 7900670543919644,
     "dataframes": [
      "_sqldf"
     ]
    },
    "pythonIndentUnit": 4
   },
   "notebookName": "CSV_Filter",
   "widgets": {}
  },
  "language_info": {
   "name": "python"
  }
 },
 "nbformat": 4,
 "nbformat_minor": 0
}
