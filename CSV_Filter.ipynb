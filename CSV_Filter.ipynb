{
 "cells": [
  {
   "cell_type": "code",
   "execution_count": 0,
   "metadata": {
    "application/vnd.databricks.v1+cell": {
     "cellMetadata": {
      "byteLimit": 2048000,
      "rowLimit": 10000
     },
     "inputWidgets": {},
     "nuid": "9cfc8550-4e52-4505-8cf4-db097f153e8c",
     "showTitle": false,
     "tableResultSettingsMap": {},
     "title": ""
    }
   },
   "outputs": [],
   "source": [
    "from pyspark.sql import SparkSession\n",
    "from pyspark.sql.functions import to_timestamp, col\n",
    "\n",
    "spark = SparkSession.builder.appName(\"ETRM Data Filter\").getOrCreate()"
   ]
  },
  {
   "cell_type": "code",
   "execution_count": 0,
   "metadata": {
    "application/vnd.databricks.v1+cell": {
     "cellMetadata": {
      "byteLimit": 2048000,
      "rowLimit": 10000
     },
     "inputWidgets": {},
     "nuid": "228d7657-4f64-4fac-adf2-bbc4628dccf1",
     "showTitle": false,
     "tableResultSettingsMap": {},
     "title": ""
    }
   },
   "outputs": [],
   "source": [
    "files =[f.name for f in  dbutils.fs.ls('/Volumes/workspace/default/databrics_data/')]\n",
    "print(files)"
   ]
  },
  {
   "cell_type": "code",
   "execution_count": 0,
   "metadata": {
    "application/vnd.databricks.v1+cell": {
     "cellMetadata": {
      "byteLimit": 2048000,
      "rowLimit": 10000
     },
     "inputWidgets": {},
     "nuid": "c60fa0b7-3966-479c-b9c2-67a2347569b7",
     "showTitle": false,
     "tableResultSettingsMap": {},
     "title": ""
    }
   },
   "outputs": [],
   "source": [
    "# Loading all the type of files and filter logic\n",
    "files = ['Cola.xlsx', 'CompanyData.txt', 'etrm_trades.csv', 'iris.json', 'yiedl_daily.parquet']\n",
    "\n",
    "csv_files = [f for f in files if f.endswith('.csv')]\n",
    "\n",
    "print(\"CSV files only:\", csv_files)\n"
   ]
  },
  {
   "cell_type": "code",
   "execution_count": 0,
   "metadata": {
    "application/vnd.databricks.v1+cell": {
     "cellMetadata": {
      "byteLimit": 2048000,
      "rowLimit": 10000
     },
     "inputWidgets": {},
     "nuid": "35447d9b-c099-4810-b93b-15585572e43b",
     "showTitle": false,
     "tableResultSettingsMap": {},
     "title": ""
    }
   },
   "outputs": [],
   "source": [
    "# Read CSV file with headers and infer schema\n",
    "etrm_df = spark.read.option(\"header\", True).option(\"inferSchema\", True).csv(\"/Volumes/workspace/default/databrics_data/etrm_trades.csv\")\n",
    "\n",
    "# Clean column names to remove invalid characters\n",
    "etrm_df = etrm_df.withColumnRenamed(\"Trade ID\", \"Trade_ID\") \\\n",
    "                 .withColumnRenamed(\"Energy Type\", \"Energy_Type\") \\\n",
    "                 .withColumnRenamed(\"Quantity (MWh)\", \"Quantity_MWh\") \\\n",
    "                 .withColumnRenamed(\"Total Price (USD)\", \"Total_Price_USD\") \\\n",
    "                 .withColumnRenamed(\"Price (USD/MWh)\", \"Price_USD_MWh\") \\\n",
    "                 .withColumnRenamed(\"Date\", \"Trade_Date\")\n",
    "\n",
    "# Display first few records\n",
    "display(etrm_df.limit(5))\n",
    "\n",
    "# Register as Temp View for SQL queries\n",
    "etrm_df.createOrReplaceTempView(\"etrm_trades_view\")\n",
    "\n",
    "# Verify registration\n",
    "display(etrm_df.limit(5))"
   ]
  },
  {
   "cell_type": "code",
   "execution_count": 0,
   "metadata": {
    "application/vnd.databricks.v1+cell": {
     "cellMetadata": {
      "byteLimit": 2048000,
      "rowLimit": 10000
     },
     "inputWidgets": {},
     "nuid": "dd76bc0a-fe23-4921-beda-efd214ac35f6",
     "showTitle": false,
     "tableResultSettingsMap": {},
     "title": ""
    }
   },
   "outputs": [],
   "source": [
    "# Energy Summary by Energy Type\n",
    "energy_summary = spark.sql(\"\"\"\n",
    "    SELECT \n",
    "        Energy_Type,\n",
    "        SUM(Quantity_MWh) AS Total_Quantity_MWh,\n",
    "        SUM(Total_Price_USD) AS Total_Revenue_USD,\n",
    "        ROUND(AVG(Price_USD_MWh), 2) AS Avg_Price_USD_MWh\n",
    "    FROM etrm_trades_view\n",
    "    GROUP BY Energy_Type\n",
    "    ORDER BY Total_Revenue_USD DESC\n",
    "\"\"\")\n",
    "\n",
    "display(energy_summary)\n",
    "\n",
    "# Daily Trade Summary\n",
    "daily_summary = spark.sql(\"\"\"\n",
    "    SELECT \n",
    "        Trade_Date,\n",
    "        COUNT(DISTINCT Trade_ID) AS Num_Trades,\n",
    "        SUM(Total_Price_USD) AS Daily_Revenue_USD,\n",
    "        ROUND(AVG(Price_USD_MWh), 2) AS Avg_Price_USD_MWh\n",
    "    FROM etrm_trades_view\n",
    "    GROUP BY Trade_Date\n",
    "    ORDER BY Trade_Date ASC\n",
    "\"\"\")\n",
    "\n",
    "display(daily_summary)\n"
   ]
  },
  {
   "cell_type": "code",
   "execution_count": 0,
   "metadata": {
    "application/vnd.databricks.v1+cell": {
     "cellMetadata": {
      "byteLimit": 2048000,
      "rowLimit": 10000
     },
     "inputWidgets": {},
     "nuid": "3804708f-1a65-4683-9799-1f8eb834f7a2",
     "showTitle": false,
     "tableResultSettingsMap": {},
     "title": ""
    }
   },
   "outputs": [],
   "source": [
    "etrm_df.write.mode(\"overwrite\").format(\"delta\").saveAsTable(\"etrm_trades_table\")"
   ]
  },
  {
   "cell_type": "code",
   "execution_count": 0,
   "metadata": {
    "application/vnd.databricks.v1+cell": {
     "cellMetadata": {
      "byteLimit": 2048000,
      "rowLimit": 10000
     },
     "inputWidgets": {},
     "nuid": "0ac71a5a-cd68-4f7b-927d-4608d81ed708",
     "showTitle": false,
     "tableResultSettingsMap": {},
     "title": ""
    }
   },
   "outputs": [],
   "source": [
    "# Analyzing the schema of the csv file\n",
    "etrm_df.printSchema()"
   ]
  },
  {
   "cell_type": "code",
   "execution_count": 0,
   "metadata": {
    "application/vnd.databricks.v1+cell": {
     "cellMetadata": {
      "byteLimit": 2048000,
      "rowLimit": 10000
     },
     "inputWidgets": {},
     "nuid": "f10502b0-1f77-4bfc-910b-c077cac7e2eb",
     "showTitle": false,
     "tableResultSettingsMap": {
      "0": {
       "dataGridStateBlob": "{\"version\":1,\"tableState\":{\"columnPinning\":{\"left\":[\"#row_number#\"],\"right\":[]},\"columnSizing\":{},\"columnVisibility\":{}},\"settings\":{\"columns\":{}},\"syncTimestamp\":1761562581081}",
       "filterBlob": null,
       "queryPlanFiltersBlob": null,
       "tableResultIndex": 0
      }
     },
     "title": ""
    }
   },
   "outputs": [],
   "source": [
    "from pyspark.sql.functions import to_timestamp\n",
    "\n",
    "etrm_df = etrm_df.withColumn(\n",
    "    \"Trade_Date\",\n",
    "    to_timestamp(\"Trade_Date\", \"dd-MM-yyyy HH:mm\")\n",
    ")\n",
    "display(etrm_df.limit(5))"
   ]
  },
  {
   "cell_type": "code",
   "execution_count": 0,
   "metadata": {
    "application/vnd.databricks.v1+cell": {
     "cellMetadata": {
      "byteLimit": 2048000,
      "rowLimit": 10000
     },
     "inputWidgets": {},
     "nuid": "a1d60b99-7e3d-424d-80b9-84d5300971a9",
     "showTitle": false,
     "tableResultSettingsMap": {
      "0": {
       "dataGridStateBlob": "{\"version\":1,\"tableState\":{\"columnPinning\":{\"left\":[\"#row_number#\"],\"right\":[]},\"columnSizing\":{},\"columnVisibility\":{}},\"settings\":{\"columns\":{}},\"syncTimestamp\":1761583474183}",
       "filterBlob": null,
       "queryPlanFiltersBlob": null,
       "tableResultIndex": 0
      }
     },
     "title": ""
    }
   },
   "outputs": [],
   "source": [
    "etrm_df.createOrReplaceTempView(\"etrm_trades_view\")\n",
    "display(etrm_df.limit(5))"
   ]
  },
  {
   "cell_type": "code",
   "execution_count": 0,
   "metadata": {
    "application/vnd.databricks.v1+cell": {
     "cellMetadata": {
      "byteLimit": 2048000,
      "rowLimit": 10000
     },
     "inputWidgets": {},
     "nuid": "20b6b277-dde5-4a1e-bba0-6122e8ffa48c",
     "showTitle": false,
     "tableResultSettingsMap": {},
     "title": ""
    }
   },
   "outputs": [],
   "source": [
    "spark.sql(\"DROP TABLE IF EXISTS workspace.default.energy_summary_table\")\n",
    "spark.sql(\"DROP TABLE IF EXISTS workspace.default.daily_summary_table\")\n",
    "\n",
    "energy_summary.write.saveAsTable(\"workspace.default.energy_summary_table\")\n",
    "daily_summary.write.saveAsTable(\"workspace.default.daily_summary_table\")"
   ]
  },
  {
   "cell_type": "code",
   "execution_count": 0,
   "metadata": {
    "application/vnd.databricks.v1+cell": {
     "cellMetadata": {
      "byteLimit": 2048000,
      "rowLimit": 10000
     },
     "inputWidgets": {},
     "nuid": "6537fd08-d51a-4213-b65e-2c1aebbfc4fe",
     "showTitle": false,
     "tableResultSettingsMap": {},
     "title": ""
    }
   },
   "outputs": [],
   "source": [
    "spark.sql(\"SHOW TABLES IN workspace.default\").show(truncate=False)\n",
    "spark.sql(\"SELECT * FROM workspace.default.energy_summary_table LIMIT 5\").show()\n",
    "spark.sql(\"SELECT * FROM workspace.default.daily_summary_table LIMIT 5\").show()"
   ]
  },
  {
   "cell_type": "code",
   "execution_count": 0,
   "metadata": {
    "application/vnd.databricks.v1+cell": {
     "cellMetadata": {
      "byteLimit": 2048000,
      "rowLimit": 10000
     },
     "inputWidgets": {},
     "nuid": "c7624092-1979-4152-97bd-cb68f5e16199",
     "showTitle": false,
     "tableResultSettingsMap": {},
     "title": ""
    }
   },
   "outputs": [],
   "source": [
    "from pyspark.sql.functions import col, round\n",
    "\n",
    "check_df = etrm_df.withColumn(\n",
    "    \"Calculated_Total\", round(col(\"Quantity_MWh\") * col(\"Price_USD_MWh\"), 2)\n",
    ").withColumn(\n",
    "    \"Difference\", col(\"Total_Price_USD\") - col(\"Calculated_Total\")\n",
    ")\n",
    "\n",
    "display(check_df.select(\"Trade_ID\", \"Energy_Type\", \"Total_Price_USD\", \"Calculated_Total\", \"Difference\"))"
   ]
  },
  {
   "cell_type": "code",
   "execution_count": 0,
   "metadata": {
    "application/vnd.databricks.v1+cell": {
     "cellMetadata": {
      "byteLimit": 2048000,
      "rowLimit": 10000
     },
     "inputWidgets": {},
     "nuid": "6f66468e-5f7d-4c0b-a5f8-a3ebed67e105",
     "showTitle": false,
     "tableResultSettingsMap": {},
     "title": ""
    }
   },
   "outputs": [],
   "source": [
    "# Energy type summary\n",
    "from pyspark.sql.functions import sum as spark_sum\n",
    "\n",
    "energy_summary = (\n",
    "    etrm_df.groupBy(\"Energy_Type\")\n",
    "    .agg(\n",
    "        spark_sum(\"Quantity_MWh\").alias(\"Total_Quantity\"),\n",
    "        spark_sum(\"Total_Price_USD\").alias(\"Total_Revenue\")\n",
    "    )\n",
    "    .orderBy(\"Total_Revenue\", ascending=False)\n",
    ")\n",
    "\n",
    "display(energy_summary)\n"
   ]
  },
  {
   "cell_type": "code",
   "execution_count": 0,
   "metadata": {
    "application/vnd.databricks.v1+cell": {
     "cellMetadata": {
      "byteLimit": 2048000,
      "rowLimit": 10000
     },
     "inputWidgets": {},
     "nuid": "f0a07b6a-7d9f-42d2-a116-6f390f617826",
     "showTitle": false,
     "tableResultSettingsMap": {},
     "title": ""
    }
   },
   "outputs": [],
   "source": [
    "from pyspark.sql.functions import to_timestamp, to_date, sum as spark_sum\n",
    "\n",
    "daily_summary = (\n",
    "    etrm_df.withColumn(\"Trade_Date\", to_date(to_timestamp(\"Trade_Date\", \"dd-MM-yyyy HH:mm\")))\n",
    "    .groupBy(\"Trade_Date\")\n",
    "    .agg(\n",
    "        spark_sum(\"Total_Price_USD\").alias(\"Daily_Revenue\"),\n",
    "        spark_sum(\"Quantity_MWh\").alias(\"Daily_Volume\")\n",
    "    )\n",
    "    .orderBy(\"Trade_Date\")\n",
    ")\n",
    "\n",
    "display(daily_summary)"
   ]
  },
  {
   "cell_type": "code",
   "execution_count": 0,
   "metadata": {
    "application/vnd.databricks.v1+cell": {
     "cellMetadata": {
      "byteLimit": 2048000,
      "rowLimit": 10000
     },
     "inputWidgets": {},
     "nuid": "1eccd396-9a8c-4f27-b45d-fabceb1192ae",
     "showTitle": false,
     "tableResultSettingsMap": {},
     "title": ""
    }
   },
   "outputs": [],
   "source": [
    "spark.catalog.listTables()"
   ]
  },
  {
   "cell_type": "code",
   "execution_count": 0,
   "metadata": {
    "application/vnd.databricks.v1+cell": {
     "cellMetadata": {
      "byteLimit": 2048000,
      "rowLimit": 10000
     },
     "inputWidgets": {},
     "nuid": "683f336c-590c-4310-8669-3920c7633d32",
     "showTitle": false,
     "tableResultSettingsMap": {},
     "title": ""
    }
   },
   "outputs": [],
   "source": [
    "check_df.show(5)\n",
    "daily_summary.show(5)"
   ]
  },
  {
   "cell_type": "code",
   "execution_count": 0,
   "metadata": {
    "application/vnd.databricks.v1+cell": {
     "cellMetadata": {},
     "inputWidgets": {},
     "nuid": "4fb6130f-681a-4d6d-bbe6-9a052d809aab",
     "showTitle": false,
     "tableResultSettingsMap": {},
     "title": ""
    }
   },
   "outputs": [],
   "source": []
  }
 ],
 "metadata": {
  "application/vnd.databricks.v1+notebook": {
   "computePreferences": {
    "hardware": {
     "accelerator": null,
     "gpuPoolId": null,
     "memory": null
    }
   },
   "dashboards": [],
   "environmentMetadata": {
    "base_environment": "",
    "environment_version": "4"
   },
   "inputWidgetPreferences": null,
   "language": "python",
   "notebookMetadata": {
    "mostRecentlyExecutedCommandWithImplicitDF": {
     "commandId": -1,
     "dataframes": [
      "_sqldf"
     ]
    },
    "pythonIndentUnit": 4
   },
   "notebookName": "CSV_Filter",
   "widgets": {}
  },
  "language_info": {
   "name": "python"
  }
 },
 "nbformat": 4,
 "nbformat_minor": 0
}
